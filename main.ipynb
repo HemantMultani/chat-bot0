{
 "cells": [
  {
   "cell_type": "code",
   "execution_count": 1,
   "id": "b5211c7d",
   "metadata": {},
   "outputs": [
    {
     "name": "stdout",
     "output_type": "stream",
     "text": [
      "{'messages': [HumanMessage(content=\"hi I'm hk\", additional_kwargs={}, response_metadata={}, id='db9b8f4d-bd6b-422a-a39d-dbff46083516'), AIMessage(content=\"Hi HK! It's nice to meet you. How can I help you today?\", additional_kwargs={}, response_metadata={'prompt_feedback': {'block_reason': 0, 'safety_ratings': []}, 'finish_reason': 'STOP', 'model_name': 'gemini-2.0-flash', 'safety_ratings': []}, id='run--5ddbbae5-59b7-4518-b90a-8a20519026aa-0', usage_metadata={'input_tokens': 5, 'output_tokens': 19, 'total_tokens': 24, 'input_token_details': {'cache_read': 0}})]}\n",
      "==================================\u001b[1m Ai Message \u001b[0m==================================\n",
      "\n",
      "Hi HK! It's nice to meet you. How can I help you today?\n",
      "None\n"
     ]
    }
   ],
   "source": [
    "from chat_bot import get_workflow\n",
    "from user_management import config\n",
    "from langchain_core.messages import HumanMessage\n",
    "\n",
    "\n",
    "query = \"hi I'm hk\"\n",
    "app = get_workflow()\n",
    "res = app.invoke({\"messages\": [HumanMessage(query)]}, config)\n",
    "print(res)\n",
    "print(res[\"messages\"][-1].pretty_print())\n"
   ]
  },
  {
   "cell_type": "code",
   "execution_count": null,
   "id": "30cb2adb",
   "metadata": {},
   "outputs": [],
   "source": [
    "\n",
    "query = \"What's my name?\"\n",
    "res = app.invoke({\"messages\": [HumanMessage(query)]}, config)\n",
    "print(res)\n",
    "print(res[\"messages\"][-1].pretty_print())"
   ]
  }
 ],
 "metadata": {
  "kernelspec": {
   "display_name": "cb_venv",
   "language": "python",
   "name": "python3"
  },
  "language_info": {
   "codemirror_mode": {
    "name": "ipython",
    "version": 3
   },
   "file_extension": ".py",
   "mimetype": "text/x-python",
   "name": "python",
   "nbconvert_exporter": "python",
   "pygments_lexer": "ipython3",
   "version": "3.11.5"
  }
 },
 "nbformat": 4,
 "nbformat_minor": 5
}
